{
 "cells": [
  {
   "cell_type": "markdown",
   "metadata": {},
   "source": [
    "# Example usage of MeshFleet Dataset"
   ]
  },
  {
   "cell_type": "code",
   "execution_count": 1,
   "metadata": {},
   "outputs": [
    {
     "data": {
      "text/html": [
       "<div>\n",
       "<style scoped>\n",
       "    .dataframe tbody tr th:only-of-type {\n",
       "        vertical-align: middle;\n",
       "    }\n",
       "\n",
       "    .dataframe tbody tr th {\n",
       "        vertical-align: top;\n",
       "    }\n",
       "\n",
       "    .dataframe thead th {\n",
       "        text-align: right;\n",
       "    }\n",
       "</style>\n",
       "<table border=\"1\" class=\"dataframe\">\n",
       "  <thead>\n",
       "    <tr style=\"text-align: right;\">\n",
       "      <th></th>\n",
       "      <th>sha256</th>\n",
       "      <th>yolo_objects</th>\n",
       "      <th>yolo_objects_confidence</th>\n",
       "      <th>cap3D_caption</th>\n",
       "      <th>trellis_aesthetic_score</th>\n",
       "      <th>trellis_caption</th>\n",
       "      <th>aesthetic_score</th>\n",
       "      <th>fileIdentifier</th>\n",
       "      <th>source</th>\n",
       "      <th>license</th>\n",
       "      <th>fileType</th>\n",
       "      <th>metadata</th>\n",
       "      <th>mesh_filename</th>\n",
       "      <th>caption</th>\n",
       "      <th>avg_height_of_bbox</th>\n",
       "      <th>normalized_height_of_object</th>\n",
       "      <th>normalized_depth_of_object</th>\n",
       "      <th>normalized_width_of_object</th>\n",
       "      <th>normalized_wheelbase</th>\n",
       "      <th>category</th>\n",
       "    </tr>\n",
       "  </thead>\n",
       "  <tbody>\n",
       "    <tr>\n",
       "      <th>0</th>\n",
       "      <td>a0a77f7783b2f0a48d718a0b31fc793d1c16c72beec0d8...</td>\n",
       "      <td>['car']</td>\n",
       "      <td>[0.95]</td>\n",
       "      <td>Black Ford Crown Victoria</td>\n",
       "      <td>5.532260</td>\n",
       "      <td>[\"Matte black four-door sedan with a boxy desi...</td>\n",
       "      <td>4.092780</td>\n",
       "      <td>https://sketchfab.com/3d-models/76d7f3373a5548...</td>\n",
       "      <td>sketchfab</td>\n",
       "      <td>Creative Commons - Attribution</td>\n",
       "      <td>glb</td>\n",
       "      <td>{}</td>\n",
       "      <td>76d7f3373a5548ef86821c95c68fbe55.glb</td>\n",
       "      <td>The images depict a three-dimensional renderin...</td>\n",
       "      <td>131.5000</td>\n",
       "      <td>1.0</td>\n",
       "      <td>3.592000</td>\n",
       "      <td>1.473485</td>\n",
       "      <td>2.050560</td>\n",
       "      <td>Sedan</td>\n",
       "    </tr>\n",
       "    <tr>\n",
       "      <th>1</th>\n",
       "      <td>4f0e8fe23f6bdc119ee773c3e7f796e90ee41fed1066be...</td>\n",
       "      <td>['car']</td>\n",
       "      <td>[0.88]</td>\n",
       "      <td>Blue Volkswagen Beetle</td>\n",
       "      <td>6.863236</td>\n",
       "      <td>[\"A classic Volkswagen Beetle with a rounded b...</td>\n",
       "      <td>4.495291</td>\n",
       "      <td>https://sketchfab.com/3d-models/66d536cb479944...</td>\n",
       "      <td>sketchfab</td>\n",
       "      <td>Creative Commons - Attribution</td>\n",
       "      <td>glb</td>\n",
       "      <td>{}</td>\n",
       "      <td>66d536cb4799441bab6270d569d32c42.glb</td>\n",
       "      <td>The car depicted in the images is a classic Vo...</td>\n",
       "      <td>179.8125</td>\n",
       "      <td>1.0</td>\n",
       "      <td>2.593567</td>\n",
       "      <td>1.174515</td>\n",
       "      <td>1.611789</td>\n",
       "      <td>Coupe</td>\n",
       "    </tr>\n",
       "    <tr>\n",
       "      <th>2</th>\n",
       "      <td>5a60c7a3e95d1616d84d677ab065fd1220788f4833eed5...</td>\n",
       "      <td>['car']</td>\n",
       "      <td>[0.95]</td>\n",
       "      <td>a Dodge Charger SXT</td>\n",
       "      <td>5.771935</td>\n",
       "      <td>[\"A modern red sedan with black trims, slim he...</td>\n",
       "      <td>4.033427</td>\n",
       "      <td>https://sketchfab.com/3d-models/d72548ce431c45...</td>\n",
       "      <td>sketchfab</td>\n",
       "      <td>Creative Commons - Attribution</td>\n",
       "      <td>glb</td>\n",
       "      <td>{}</td>\n",
       "      <td>d72548ce431c45809418af01ee93c096.glb</td>\n",
       "      <td>The 3D car renderings showcase a sleek sedan w...</td>\n",
       "      <td>147.6250</td>\n",
       "      <td>1.0</td>\n",
       "      <td>3.210145</td>\n",
       "      <td>1.391304</td>\n",
       "      <td>2.097391</td>\n",
       "      <td>Sedan</td>\n",
       "    </tr>\n",
       "    <tr>\n",
       "      <th>3</th>\n",
       "      <td>5b126f4af8a10c06c3bbe1a9b1998eb395b9072c278b3f...</td>\n",
       "      <td>['car', 'truck', 'bus']</td>\n",
       "      <td>[0.95, 0.75, 0.39]</td>\n",
       "      <td>Small yellow car model</td>\n",
       "      <td>6.822062</td>\n",
       "      <td>[\"A yellow compact hatchback car with a stream...</td>\n",
       "      <td>4.038136</td>\n",
       "      <td>https://sketchfab.com/3d-models/f57b9138ff9645...</td>\n",
       "      <td>sketchfab</td>\n",
       "      <td>Creative Commons - Attribution</td>\n",
       "      <td>glb</td>\n",
       "      <td>{}</td>\n",
       "      <td>f57b9138ff96450e8d359304b15fc3de.glb</td>\n",
       "      <td>The car rendered in the images appears to be a...</td>\n",
       "      <td>185.5625</td>\n",
       "      <td>1.0</td>\n",
       "      <td>2.548571</td>\n",
       "      <td>1.345845</td>\n",
       "      <td>1.765851</td>\n",
       "      <td>Hatchback</td>\n",
       "    </tr>\n",
       "    <tr>\n",
       "      <th>4</th>\n",
       "      <td>654e96a4a1fb30c8f13ad4e692c85cdb6826088a1b3eb7...</td>\n",
       "      <td>['car']</td>\n",
       "      <td>[0.96]</td>\n",
       "      <td>a silver sports car.</td>\n",
       "      <td>6.064985</td>\n",
       "      <td>[\"A sleek, classic sports car with a low, aero...</td>\n",
       "      <td>4.256062</td>\n",
       "      <td>https://sketchfab.com/3d-models/2e8630e7c08546...</td>\n",
       "      <td>sketchfab</td>\n",
       "      <td>Creative Commons - Attribution</td>\n",
       "      <td>glb</td>\n",
       "      <td>{}</td>\n",
       "      <td>2e8630e7c085464cb332cec0f5faaef0.glb</td>\n",
       "      <td>The car depicted in the images is a stylized, ...</td>\n",
       "      <td>138.1875</td>\n",
       "      <td>1.0</td>\n",
       "      <td>3.404580</td>\n",
       "      <td>1.620567</td>\n",
       "      <td>2.057771</td>\n",
       "      <td>Sports Car</td>\n",
       "    </tr>\n",
       "  </tbody>\n",
       "</table>\n",
       "</div>"
      ],
      "text/plain": [
       "                                              sha256             yolo_objects  \\\n",
       "0  a0a77f7783b2f0a48d718a0b31fc793d1c16c72beec0d8...                  ['car']   \n",
       "1  4f0e8fe23f6bdc119ee773c3e7f796e90ee41fed1066be...                  ['car']   \n",
       "2  5a60c7a3e95d1616d84d677ab065fd1220788f4833eed5...                  ['car']   \n",
       "3  5b126f4af8a10c06c3bbe1a9b1998eb395b9072c278b3f...  ['car', 'truck', 'bus']   \n",
       "4  654e96a4a1fb30c8f13ad4e692c85cdb6826088a1b3eb7...                  ['car']   \n",
       "\n",
       "  yolo_objects_confidence              cap3D_caption  trellis_aesthetic_score  \\\n",
       "0                  [0.95]  Black Ford Crown Victoria                 5.532260   \n",
       "1                  [0.88]     Blue Volkswagen Beetle                 6.863236   \n",
       "2                  [0.95]        a Dodge Charger SXT                 5.771935   \n",
       "3      [0.95, 0.75, 0.39]     Small yellow car model                 6.822062   \n",
       "4                  [0.96]       a silver sports car.                 6.064985   \n",
       "\n",
       "                                     trellis_caption  aesthetic_score  \\\n",
       "0  [\"Matte black four-door sedan with a boxy desi...         4.092780   \n",
       "1  [\"A classic Volkswagen Beetle with a rounded b...         4.495291   \n",
       "2  [\"A modern red sedan with black trims, slim he...         4.033427   \n",
       "3  [\"A yellow compact hatchback car with a stream...         4.038136   \n",
       "4  [\"A sleek, classic sports car with a low, aero...         4.256062   \n",
       "\n",
       "                                      fileIdentifier     source  \\\n",
       "0  https://sketchfab.com/3d-models/76d7f3373a5548...  sketchfab   \n",
       "1  https://sketchfab.com/3d-models/66d536cb479944...  sketchfab   \n",
       "2  https://sketchfab.com/3d-models/d72548ce431c45...  sketchfab   \n",
       "3  https://sketchfab.com/3d-models/f57b9138ff9645...  sketchfab   \n",
       "4  https://sketchfab.com/3d-models/2e8630e7c08546...  sketchfab   \n",
       "\n",
       "                          license fileType metadata  \\\n",
       "0  Creative Commons - Attribution      glb       {}   \n",
       "1  Creative Commons - Attribution      glb       {}   \n",
       "2  Creative Commons - Attribution      glb       {}   \n",
       "3  Creative Commons - Attribution      glb       {}   \n",
       "4  Creative Commons - Attribution      glb       {}   \n",
       "\n",
       "                          mesh_filename  \\\n",
       "0  76d7f3373a5548ef86821c95c68fbe55.glb   \n",
       "1  66d536cb4799441bab6270d569d32c42.glb   \n",
       "2  d72548ce431c45809418af01ee93c096.glb   \n",
       "3  f57b9138ff96450e8d359304b15fc3de.glb   \n",
       "4  2e8630e7c085464cb332cec0f5faaef0.glb   \n",
       "\n",
       "                                             caption  avg_height_of_bbox  \\\n",
       "0  The images depict a three-dimensional renderin...            131.5000   \n",
       "1  The car depicted in the images is a classic Vo...            179.8125   \n",
       "2  The 3D car renderings showcase a sleek sedan w...            147.6250   \n",
       "3  The car rendered in the images appears to be a...            185.5625   \n",
       "4  The car depicted in the images is a stylized, ...            138.1875   \n",
       "\n",
       "   normalized_height_of_object  normalized_depth_of_object  \\\n",
       "0                          1.0                    3.592000   \n",
       "1                          1.0                    2.593567   \n",
       "2                          1.0                    3.210145   \n",
       "3                          1.0                    2.548571   \n",
       "4                          1.0                    3.404580   \n",
       "\n",
       "   normalized_width_of_object  normalized_wheelbase    category  \n",
       "0                    1.473485              2.050560       Sedan  \n",
       "1                    1.174515              1.611789       Coupe  \n",
       "2                    1.391304              2.097391       Sedan  \n",
       "3                    1.345845              1.765851   Hatchback  \n",
       "4                    1.620567              2.057771  Sports Car  "
      ]
     },
     "execution_count": 1,
     "metadata": {},
     "output_type": "execute_result"
    }
   ],
   "source": [
    "import pandas as pd\n",
    "\n",
    "meshfleet_df = pd.read_csv('./data/meshfleet_with_vehicle_categories_df.csv')\n",
    "meshfleet_df.head()"
   ]
  },
  {
   "cell_type": "code",
   "execution_count": 2,
   "metadata": {},
   "outputs": [
    {
     "data": {
      "text/plain": [
       "103"
      ]
     },
     "execution_count": 2,
     "metadata": {},
     "output_type": "execute_result"
    }
   ],
   "source": [
    "only_hatchback_df = meshfleet_df[meshfleet_df['category'] == 'Hatchback']\n",
    "len(only_hatchback_df)"
   ]
  },
  {
   "cell_type": "code",
   "execution_count": 3,
   "metadata": {},
   "outputs": [
    {
     "name": "stdout",
     "output_type": "stream",
     "text": [
      "Average length of hatchback: 2.677314238751248\n",
      "Average width of hatchback: 1.32098296277762\n",
      "Average wheelbase of hatchback: 1.7440673484721436\n"
     ]
    }
   ],
   "source": [
    "average_length_of_hatchback = only_hatchback_df['normalized_depth_of_object'].mean()\n",
    "average_width_of_hatchback = only_hatchback_df['normalized_width_of_object'].mean()\n",
    "average_wheelbase_of_hatchback = only_hatchback_df['normalized_wheelbase'].mean()\n",
    "print(f'Average length of hatchback: {average_length_of_hatchback}')\n",
    "print(f'Average width of hatchback: {average_width_of_hatchback}')\n",
    "print(f'Average wheelbase of hatchback: {average_wheelbase_of_hatchback}')"
   ]
  },
  {
   "cell_type": "code",
   "execution_count": 4,
   "metadata": {},
   "outputs": [
    {
     "data": {
      "text/plain": [
       "12"
      ]
     },
     "execution_count": 4,
     "metadata": {},
     "output_type": "execute_result"
    }
   ],
   "source": [
    "long_hatchback_df = only_hatchback_df[only_hatchback_df['normalized_depth_of_object'] > average_length_of_hatchback + 0.5]\n",
    "len(long_hatchback_df)"
   ]
  },
  {
   "cell_type": "markdown",
   "metadata": {},
   "source": [
    "## Loading MeshFleet Objects from Objaverse XL\n",
    "\n",
    "You can use the annotations from objaverse, and filter by the selected sha256:\n",
    "\n",
    "```python\n",
    "annotations_df = oxl.get_annotations(download_dir=\"~/.objaverse\")\n",
    "annotations_to_download = annotations_df[annotations_df['sha256'].isin(long_hatchback_df['sha256'].tolist())]\n",
    "annotations_to_download.head()\n",
    "```\n",
    "\n",
    "You can also directly use the annotations from the meshfleet dataset:\n"
   ]
  },
  {
   "cell_type": "code",
   "execution_count": 5,
   "metadata": {},
   "outputs": [],
   "source": [
    "import os \n",
    "import shutil\n",
    "import objaverse.xl as oxl\n",
    "from typing import Any, Dict, Hashable\n",
    "\n",
    "base_dir = \"./downloads\"\n",
    "g_base_path = os.path.abspath(base_dir)\n",
    "os.makedirs(g_base_path, exist_ok=True)\n",
    "\n",
    "def handle_found_object(\n",
    "    local_path: str,\n",
    "    file_identifier: str,\n",
    "    sha256: str,\n",
    "    metadata: Dict[Hashable, Any]\n",
    ") -> None:\n",
    "    # move the file to the shape folder\n",
    "    filename = os.path.basename(local_path)\n",
    "    shape_path = os.path.join(g_base_path, \"shape\")\n",
    "    os.makedirs(shape_path, exist_ok=True)\n",
    "    new_file_name = f\"{sha256}.{filename.split('.')[-1]}\"\n",
    "    new_file_path = os.path.join(shape_path, new_file_name)\n",
    "    shutil.copy2(local_path, new_file_path)"
   ]
  },
  {
   "cell_type": "code",
   "execution_count": 7,
   "metadata": {},
   "outputs": [
    {
     "name": "stderr",
     "output_type": "stream",
     "text": [
      "\u001b[32m2025-03-05 18:53:19.283\u001b[0m | \u001b[1mINFO    \u001b[0m | \u001b[36mobjaverse.xl.github\u001b[0m:\u001b[36mdownload_objects\u001b[0m:\u001b[36m602\u001b[0m - \u001b[1mProvided 5 repoIds with 6 objects to process.\u001b[0m\n",
      "\u001b[32m2025-03-05 18:53:19.284\u001b[0m | \u001b[1mINFO    \u001b[0m | \u001b[36mobjaverse.xl.github\u001b[0m:\u001b[36mdownload_objects\u001b[0m:\u001b[36m614\u001b[0m - \u001b[1mFound 5 repoIds not yet downloaded. Downloading now...\u001b[0m\n"
     ]
    },
    {
     "name": "stderr",
     "output_type": "stream",
     "text": [
      "Grouping objects by repository: 100%|██████████| 5/5 [00:00<00:00, 808.87it/s]\n",
      "Handling 3D object files: 100%|██████████| 4/4 [00:01<00:00,  2.43it/s]\n",
      "Handling 3D object files: 100%|██████████| 31/31 [00:00<00:00, 259.15it/s]\n",
      "Handling 3D object files: 100%|██████████| 61/61 [00:00<00:00, 64.59it/s] \n",
      "Handling 3D object files: 100%|██████████| 63/63 [00:00<00:00, 78.56it/s] \n",
      "Downloading repositories:  80%|████████  | 4/5 [00:22<00:05,  5.49s/it]\u001b[32m2025-03-05 18:53:46.547\u001b[0m | \u001b[31m\u001b[1mERROR   \u001b[0m | \u001b[36mobjaverse.xl.github\u001b[0m:\u001b[36m_run_command_with_check\u001b[0m:\u001b[36m172\u001b[0m - \u001b[31m\u001b[1mError:\u001b[0m\n",
      "\u001b[32m2025-03-05 18:53:46.552\u001b[0m | \u001b[31m\u001b[1mERROR   \u001b[0m | \u001b[36mobjaverse.xl.github\u001b[0m:\u001b[36m_run_command_with_check\u001b[0m:\u001b[36m173\u001b[0m - \u001b[31m\u001b[1mNone\u001b[0m\n",
      "\u001b[32m2025-03-05 18:53:46.554\u001b[0m | \u001b[31m\u001b[1mERROR   \u001b[0m | \u001b[36mobjaverse.xl.github\u001b[0m:\u001b[36m_run_command_with_check\u001b[0m:\u001b[36m174\u001b[0m - \u001b[31m\u001b[1mNone\u001b[0m\n",
      "\u001b[32m2025-03-05 18:53:46.557\u001b[0m | \u001b[31m\u001b[1mERROR   \u001b[0m | \u001b[36mobjaverse.xl.github\u001b[0m:\u001b[36m_process_repo\u001b[0m:\u001b[36m217\u001b[0m - \u001b[31m\u001b[1mCould not clone ShovitJha/Biomed-endless-runner\u001b[0m\n",
      "Downloading repositories: 100%|██████████| 5/5 [00:27<00:00,  5.50s/it]\n",
      "\u001b[32m2025-03-05 18:54:05.576\u001b[0m | \u001b[1mINFO    \u001b[0m | \u001b[36mobjaverse.xl.sketchfab\u001b[0m:\u001b[36mdownload_objects\u001b[0m:\u001b[36m508\u001b[0m - \u001b[1mFound 6 objects already downloaded\u001b[0m\n",
      "\u001b[32m2025-03-05 18:54:05.577\u001b[0m | \u001b[1mINFO    \u001b[0m | \u001b[36mobjaverse.xl.sketchfab\u001b[0m:\u001b[36mdownload_objects\u001b[0m:\u001b[36m529\u001b[0m - \u001b[1mDownloading 0 new objects across 4 processes\u001b[0m\n"
     ]
    },
    {
     "data": {
      "text/plain": [
       "{'https://sketchfab.com/3d-models/fe02fba6302e450ea8424591493341ea': '~/.objaverse/hf-objaverse-v1/glbs/000-023/fe02fba6302e450ea8424591493341ea.glb',\n",
       " 'https://sketchfab.com/3d-models/1532cb9361bf459fb7a57672dcfcda11': '~/.objaverse/hf-objaverse-v1/glbs/000-044/1532cb9361bf459fb7a57672dcfcda11.glb',\n",
       " 'https://sketchfab.com/3d-models/6dd512527a0345b09bc01911b9928062': '~/.objaverse/hf-objaverse-v1/glbs/000-136/6dd512527a0345b09bc01911b9928062.glb',\n",
       " 'https://sketchfab.com/3d-models/2e14302c06b546b0821af441da718b68': '~/.objaverse/hf-objaverse-v1/glbs/000-004/2e14302c06b546b0821af441da718b68.glb',\n",
       " 'https://sketchfab.com/3d-models/cfe08291b94f4b998c46b86bb7e85096': '~/.objaverse/hf-objaverse-v1/glbs/000-143/cfe08291b94f4b998c46b86bb7e85096.glb',\n",
       " 'https://sketchfab.com/3d-models/87e2581386404aaaa08226b45abed511': '~/.objaverse/hf-objaverse-v1/glbs/000-064/87e2581386404aaaa08226b45abed511.glb'}"
      ]
     },
     "execution_count": 7,
     "metadata": {},
     "output_type": "execute_result"
    }
   ],
   "source": [
    "n_processes = 4\n",
    "oxl.download_objects(\n",
    "    objects=long_hatchback_df,\n",
    "    processes=n_processes,\n",
    "    handle_found_object=handle_found_object\n",
    ")"
   ]
  }
 ],
 "metadata": {
  "kernelspec": {
   "display_name": "dfn",
   "language": "python",
   "name": "python3"
  },
  "language_info": {
   "codemirror_mode": {
    "name": "ipython",
    "version": 3
   },
   "file_extension": ".py",
   "mimetype": "text/x-python",
   "name": "python",
   "nbconvert_exporter": "python",
   "pygments_lexer": "ipython3",
   "version": "3.10.16"
  }
 },
 "nbformat": 4,
 "nbformat_minor": 2
}
